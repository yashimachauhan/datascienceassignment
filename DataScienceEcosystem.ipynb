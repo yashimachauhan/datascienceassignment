{
 "cells": [
  {
   "cell_type": "markdown",
   "id": "da93b5f3-4f1e-4bd1-8008-a4cabe13d8b6",
   "metadata": {},
   "source": [
    "# Data Tools and Ecosystem"
   ]
  },
  {
   "cell_type": "markdown",
   "id": "111f4aef-93d9-4e71-8778-0f351b43b0db",
   "metadata": {
    "tags": []
   },
   "source": [
    "In This notebook, Data Science tools and Ecosytem are Summerized"
   ]
  },
  {
   "cell_type": "markdown",
   "id": "d5d35bfd-0817-4c3b-b0af-e9f05cd4b406",
   "metadata": {
    "tags": []
   },
   "source": [
    "*Objectives: must have qualities to became a Data Scientist:*\n",
    "* Curiosity\n",
    "* Judgmental\n",
    "* Argumentative"
   ]
  },
  {
   "cell_type": "markdown",
   "id": "b0090669-98df-4024-a65f-5d58404e8921",
   "metadata": {},
   "source": [
    "Some of the languages that Scientists use are: \n",
    "1. Python\n",
    "2. R\n",
    "3. SQL\n",
    "4. Scala\n",
    "5. Julia\n",
    "6. JavaScript\n",
    "\n",
    "\n",
    "\n"
   ]
  },
  {
   "cell_type": "markdown",
   "id": "3bad6f41-336c-4c7e-8b59-29456d1d7724",
   "metadata": {},
   "source": [
    "Some of the commonly used libraries used by Data Scientists include:\n",
    "1. TenserFlow\n",
    "2. SciPy\n",
    "3. NumPy\n",
    "4. Pandas\n",
    "5. Matplotlib\n",
    "6. Scikit-learn\n",
    "7. PyTorch\n",
    "8. Keras\n"
   ]
  },
  {
   "cell_type": "markdown",
   "id": "d7f0e6c3-8e78-4031-88f2-ceb9d011cc7f",
   "metadata": {
    "tags": []
   },
   "source": [
    "| Data Science Tools |\n",
    "| ------------------ |\n",
    "| Jupyter |\n",
    "| Rstudio |\n",
    "| Spyder |\n",
    "\n",
    "\n"
   ]
  },
  {
   "cell_type": "markdown",
   "id": "f8d8e99f-50c4-468e-a162-b294d73865e4",
   "metadata": {},
   "source": [
    "### Below are the few example of evaluating arithmetic expression in Python:"
   ]
  },
  {
   "cell_type": "code",
   "execution_count": 9,
   "id": "4452e263-1eb1-480a-954b-2070012b8898",
   "metadata": {
    "tags": []
   },
   "outputs": [],
   "source": [
    "# This a simple arithmetic expression to mutiply then add integers"
   ]
  },
  {
   "cell_type": "code",
   "execution_count": 9,
   "id": "57a17ddc-c01a-46f0-a714-3f7dc7e5981f",
   "metadata": {
    "tags": []
   },
   "outputs": [
    {
     "data": {
      "text/plain": [
       "17"
      ]
     },
     "execution_count": 9,
     "metadata": {},
     "output_type": "execute_result"
    }
   ],
   "source": [
    "(3*4)+5"
   ]
  },
  {
   "cell_type": "code",
   "execution_count": 11,
   "id": "86e4f8cc-2b22-4be0-a1c4-ce666fde7f12",
   "metadata": {
    "tags": []
   },
   "outputs": [],
   "source": [
    "# This will convert 200 minutes to hours by dividng by 60"
   ]
  },
  {
   "cell_type": "code",
   "execution_count": 13,
   "id": "c10a0935-c8ad-4a57-96d0-338febceedbf",
   "metadata": {
    "tags": []
   },
   "outputs": [
    {
     "data": {
      "text/plain": [
       "3.3333333333333335"
      ]
     },
     "execution_count": 13,
     "metadata": {},
     "output_type": "execute_result"
    }
   ],
   "source": [
    "200/60"
   ]
  },
  {
   "cell_type": "markdown",
   "id": "b9cb4a9e-716c-4a31-86e6-b919919c5d03",
   "metadata": {},
   "source": [
    "## Author\n",
    "Yashima Chauhan"
   ]
  },
  {
   "cell_type": "code",
   "execution_count": null,
   "id": "9aad674a-4c16-4677-bbee-a7f5878e421d",
   "metadata": {},
   "outputs": [],
   "source": []
  }
 ],
 "metadata": {
  "kernelspec": {
   "display_name": "Python",
   "language": "python",
   "name": "conda-env-python-py"
  },
  "language_info": {
   "codemirror_mode": {
    "name": "ipython",
    "version": 3
   },
   "file_extension": ".py",
   "mimetype": "text/x-python",
   "name": "python",
   "nbconvert_exporter": "python",
   "pygments_lexer": "ipython3",
   "version": "3.7.12"
  }
 },
 "nbformat": 4,
 "nbformat_minor": 5
}
